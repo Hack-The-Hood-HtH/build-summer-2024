{
 "cells": [
  {
   "cell_type": "markdown",
   "id": "dcc95daa",
   "metadata": {},
   "source": [
    "### Let's start with some basics.\n",
    "### Remember the primitive data types we talked about?\n",
    "\n",
    "### Exercise 1: Primitive Data Types\n",
    "### Create variables of different primitive data types and print them."
   ]
  },
  {
   "cell_type": "code",
   "execution_count": 12,
   "id": "d49dc46c",
   "metadata": {},
   "outputs": [
    {
     "name": "stdout",
     "output_type": "stream",
     "text": [
      "Integer: 237\n",
      "Float: 4.9\n",
      "String: Oh\n",
      "Boolean: True\n"
     ]
    }
   ],
   "source": [
    "# Integer\n",
    "my_integer = 237\n",
    "# Float\n",
    "my_float = 4.9\n",
    "# String\n",
    "my_string = \"Oh\"\n",
    "# Boolean\n",
    "my_boolean = True\n",
    "\n",
    "print(\"Integer:\", my_integer)\n",
    "print(\"Float:\", my_float)\n",
    "print(\"String:\", my_string)\n",
    "print(\"Boolean:\", my_boolean)"
   ]
  },
  {
   "cell_type": "markdown",
   "id": "7337e39f",
   "metadata": {},
   "source": [
    "### Exercise 2: Creating a Class\n",
    "### We will create a class to represent a car.\n",
    "### This class will have attributes like name, year, and model.\n",
    "### It will also have a method to honk."
   ]
  },
  {
   "cell_type": "code",
   "execution_count": 13,
   "id": "7a4db865",
   "metadata": {},
   "outputs": [],
   "source": [
    "class Car:\n",
    "    def __init__(self, name, year, model):\n",
    "        self.name = name\n",
    "        self.year = year\n",
    "        self.model = model\n",
    "    \n",
    "    def honk(self):\n",
    "        print(\"Honk! Honk!\")"
   ]
  },
  {
   "cell_type": "markdown",
   "id": "b914efe5",
   "metadata": {},
   "source": [
    "### Exercise 3: Creating Objects\n",
    "### Using the Car class, create three different car objects and call their honk method."
   ]
  },
  {
   "cell_type": "code",
   "execution_count": 14,
   "id": "75dd29c5",
   "metadata": {},
   "outputs": [
    {
     "name": "stdout",
     "output_type": "stream",
     "text": [
      "\n",
      "My Car:\n",
      "Honk! Honk!\n",
      "Other Car:\n",
      "Honk! Honk!\n",
      "Sister's Car:\n",
      "Honk! Honk!\n"
     ]
    }
   ],
   "source": [
    "my_car = Car(\"Jaguar\", 2003, \"X-Type\")\n",
    "other_car = Car(\"Kia\", 2017, \"Rio\")\n",
    "sis_car = Car(\"Toyota\", 2016, \"Corolla\")\n",
    "\n",
    "print(\"\\nMy Car:\")\n",
    "my_car.honk()\n",
    "print(\"Other Car:\")\n",
    "other_car.honk()\n",
    "print(\"Sister's Car:\")\n",
    "sis_car.honk()"
   ]
  },
  {
   "cell_type": "markdown",
   "id": "95205c81",
   "metadata": {},
   "source": [
    "## BONUS SECTION: Four principles of OOP ##\n",
    "\n",
    "### Let's dive into the four principles of OOP: Encapsulation, Abstraction, Inheritance, and Polymorphism.\n",
    "\n",
    "### Exercise 4: Encapsulation\n",
    "### We will update our Car class to include an attribute that should not be directly accessed from outside the class."
   ]
  },
  {
   "cell_type": "code",
   "execution_count": 15,
   "id": "51c7a11c",
   "metadata": {},
   "outputs": [],
   "source": [
    "class EncapsulatedCar:\n",
    "    def __init__(self, name, year, model):\n",
    "        self.name = name\n",
    "        self.year = year\n",
    "        self.model = model\n",
    "        self.__mileage = 0  # Private attribute\n",
    "    \n",
    "    def honk(self):\n",
    "        print(\"Honk! Honk!\")\n",
    "    \n",
    "    def drive(self, miles):\n",
    "        self.__mileage += miles\n",
    "        print(f\"Driven {miles} miles. Total mileage: {self.__mileage}\")"
   ]
  },
  {
   "cell_type": "markdown",
   "id": "e7a7705e",
   "metadata": {},
   "source": [
    "### Exercise 5: Inheritance\n",
    "### We will create a new class ElectricCar that inherits from the Car class.\n"
   ]
  },
  {
   "cell_type": "code",
   "execution_count": 16,
   "id": "12880c0e",
   "metadata": {},
   "outputs": [],
   "source": [
    "class ElectricCar(Car):\n",
    "    def __init__(self, name, year, model, battery_range):\n",
    "        super().__init__(name, year, model)\n",
    "        self.battery_range = battery_range\n",
    "    \n",
    "    def charge(self):\n",
    "        print(f\"Charging {self.name} for {self.battery_range} miles range.\")"
   ]
  },
  {
   "cell_type": "markdown",
   "id": "852a49a8",
   "metadata": {},
   "source": [
    "### Exercise 6: Polymorphism\n",
    "### We will create a function that can take any car and call its honk method."
   ]
  },
  {
   "cell_type": "code",
   "execution_count": 17,
   "id": "df946f72",
   "metadata": {},
   "outputs": [
    {
     "name": "stdout",
     "output_type": "stream",
     "text": [
      "\n",
      "Polymorphism Example:\n",
      "Honk! Honk!\n",
      "Honk! Honk!\n"
     ]
    }
   ],
   "source": [
    "def make_car_honk(car):\n",
    "    car.honk()\n",
    "\n",
    "print(\"\\nPolymorphism Example:\")\n",
    "make_car_honk(my_car)\n",
    "electric_car = ElectricCar(\"Tesla\", 2020, \"Model S\", 300)\n",
    "make_car_honk(electric_car)"
   ]
  },
  {
   "cell_type": "markdown",
   "id": "32e39cd5",
   "metadata": {},
   "source": [
    "### Congratulations! You've practiced the basics of OOP, including creating classes and objects, encapsulation, inheritance, and polymorphism."
   ]
  }
 ],
 "metadata": {
  "kernelspec": {
   "display_name": "Python 3",
   "language": "python",
   "name": "python3"
  },
  "language_info": {
   "codemirror_mode": {
    "name": "ipython",
    "version": 3
   },
   "file_extension": ".py",
   "mimetype": "text/x-python",
   "name": "python",
   "nbconvert_exporter": "python",
   "pygments_lexer": "ipython3",
   "version": "3.12.2"
  }
 },
 "nbformat": 4,
 "nbformat_minor": 5
}
